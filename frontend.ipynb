{
 "cells": [
  {
   "cell_type": "code",
   "execution_count": 2,
   "metadata": {},
   "outputs": [],
   "source": [
    "from tkinter import*\n",
    "%run backend.ipynb\n",
    "\n",
    "def get_selected_row(event):\n",
    "    try:\n",
    "        global selected_tuple\n",
    "        index=list1.curselection()[0]\n",
    "        selected_tuple=list1.get(index)\n",
    "        e1.delete(0,END)\n",
    "        e1.insert(END,selected_tuple[1])\n",
    "        e2.delete(0,END)\n",
    "        e2.insert(END,selected_tuple[2])\n",
    "        e3.delete(0,END)\n",
    "        e3.insert(END,selected_tuple[3])\n",
    "        e4.delete(0,END)\n",
    "        e4.insert(END,selected_tuple[4])\n",
    "    except IndexError:\n",
    "        pass\n",
    "    \n",
    "\n",
    "def view_command():\n",
    "    list1.delete(0,END)\n",
    "    for row in view():\n",
    "        list1.insert(END,row)\n",
    "        \n",
    "def search_command():\n",
    "    list1.delete(0,END)\n",
    "    for row in search(title_text.get(),author_text.get(),year_text.get(),isbn_text.get()):\n",
    "        list1.insert(END,row)\n",
    "        \n",
    "def add_command():\n",
    "    insert(title_text.get(),author_text.get(),year_text.get(),isbn_text.get())\n",
    "    list1.delete(0,END)\n",
    "    list1.insert(END,(title_text.get(),author_text.get(),year_text.get(),isbn_text.get()))\n",
    "\n",
    "def delete_command():\n",
    "    delete(selected_tuple[0])\n",
    "\n",
    "def update_command():\n",
    "    update(selected_tuple[0],title_text.get(),author_text.get(),year_text.get(),isbn_text.get())\n",
    "   \n",
    "    \n",
    "window =Tk()\n",
    "\n",
    "window.wm_title(\"BookStore\")\n",
    "\n",
    "l1=Label(window,text=\"Title\")\n",
    "l1.grid(row=0,column=0)\n",
    "\n",
    "l2=Label(window,text=\"Author\")\n",
    "l2.grid(row=0,column=2)\n",
    "\n",
    "l3=Label(window,text=\"Year\")\n",
    "l3.grid(row=1,column=0)\n",
    "\n",
    "l4=Label(window,text=\"ISBN\")\n",
    "l4.grid(row=1,column=2)\n",
    "\n",
    "title_text=StringVar()\n",
    "e1=Entry(window,textvariable=title_text)\n",
    "e1.grid(row=0,column=1)\n",
    "\n",
    "author_text=StringVar()\n",
    "e2=Entry(window,textvariable=author_text)\n",
    "e2.grid(row=0,column=3)\n",
    "\n",
    "\n",
    "year_text=StringVar()\n",
    "e3=Entry(window,textvariable=year_text)\n",
    "e3.grid(row=1,column=1)\n",
    "\n",
    "isbn_text=StringVar()\n",
    "e4=Entry(window,textvariable=isbn_text)\n",
    "e4.grid(row=1,column=3)\n",
    "\n",
    "list1=Listbox(window,height=6,width=35)\n",
    "list1.grid(row=2,column=0,rowspan=6,columnspan=2)\n",
    "\n",
    "sb1=Scrollbar(window)\n",
    "sb1.grid(row=2,column=2,rowspan=6)\n",
    "\n",
    "list1.configure(yscrollcommand=sb1.set)\n",
    "sb1.configure(command=list1.yview)\n",
    "\n",
    "list1.bind('<<ListboxSelect>>',get_selected_row)\n",
    "\n",
    "b1=Button(window,text=\"View all\",width=12,command=view_command)\n",
    "b1.grid(row=2,column=3)\n",
    "\n",
    "b2=Button(window,text=\"Search entry\",width=12,command=search_command)\n",
    "b2.grid(row=3,column=3)\n",
    "\n",
    "b3=Button(window,text=\"Add entry\",width=12,command=add_command)\n",
    "b3.grid(row=4,column=3)\n",
    "\n",
    "b4=Button(window,text=\"Update\",width=12,command=update_command)\n",
    "b4.grid(row=5,column=3)\n",
    "\n",
    "b5=Button(window,text=\"Delete\",width=12,command=delete_command)\n",
    "b5.grid(row=6,column=3)\n",
    "\n",
    "b6=Button(window,text=\"Close\",width=12,command=window.destroy)\n",
    "b6.grid(row=7,column=3)\n",
    "\n",
    "window.mainloop()"
   ]
  },
  {
   "cell_type": "code",
   "execution_count": 2,
   "metadata": {},
   "outputs": [
    {
     "name": "stdout",
     "output_type": "stream",
     "text": [
      "Requirement already satisfied: pyinstaller in c:\\programdata\\anaconda3\\lib\\site-packages (3.6)\n",
      "Requirement already satisfied: pywin32-ctypes>=0.2.0 in c:\\programdata\\anaconda3\\lib\\site-packages (from pyinstaller) (0.2.0)\n",
      "Requirement already satisfied: altgraph in c:\\programdata\\anaconda3\\lib\\site-packages (from pyinstaller) (0.17)\n",
      "Requirement already satisfied: pefile>=2017.8.1 in c:\\programdata\\anaconda3\\lib\\site-packages (from pyinstaller) (2019.4.18)\n",
      "Requirement already satisfied: setuptools in c:\\programdata\\anaconda3\\lib\\site-packages (from pyinstaller) (45.2.0.post20200210)\n",
      "Requirement already satisfied: future in c:\\programdata\\anaconda3\\lib\\site-packages (from pefile>=2017.8.1->pyinstaller) (0.18.2)\n",
      "Note: you may need to restart the kernel to use updated packages.\n"
     ]
    }
   ],
   "source": [
    "pip install pyinstaller"
   ]
  },
  {
   "cell_type": "code",
   "execution_count": 5,
   "metadata": {},
   "outputs": [
    {
     "ename": "SyntaxError",
     "evalue": "invalid syntax (<ipython-input-5-d8d9415db2ee>, line 1)",
     "output_type": "error",
     "traceback": [
      "\u001b[1;36m  File \u001b[1;32m\"<ipython-input-5-d8d9415db2ee>\"\u001b[1;36m, line \u001b[1;32m1\u001b[0m\n\u001b[1;33m    pyinstaller --onefile --windowed frontend.ipynb\u001b[0m\n\u001b[1;37m                                            ^\u001b[0m\n\u001b[1;31mSyntaxError\u001b[0m\u001b[1;31m:\u001b[0m invalid syntax\n"
     ]
    }
   ],
   "source": [
    "pyinstaller --onefile --windowed frontend.ipynb"
   ]
  },
  {
   "cell_type": "code",
   "execution_count": null,
   "metadata": {},
   "outputs": [],
   "source": []
  }
 ],
 "metadata": {
  "kernelspec": {
   "display_name": "Python 3",
   "language": "python",
   "name": "python3"
  },
  "language_info": {
   "codemirror_mode": {
    "name": "ipython",
    "version": 3
   },
   "file_extension": ".py",
   "mimetype": "text/x-python",
   "name": "python",
   "nbconvert_exporter": "python",
   "pygments_lexer": "ipython3",
   "version": "3.7.6"
  }
 },
 "nbformat": 4,
 "nbformat_minor": 4
}
